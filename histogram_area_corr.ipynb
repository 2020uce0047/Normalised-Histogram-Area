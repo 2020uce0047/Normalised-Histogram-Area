{
 "cells": [
  {
   "cell_type": "code",
   "execution_count": 183,
   "metadata": {},
   "outputs": [],
   "source": [
    "import imageio.v2 as imageio\n",
    "import numpy as np\n",
    "iterations = 2000\n",
    "arr = imageio.imread(f'RGB_visible_fibers/18TS_HIST/{iterations}/{iterations}_corr_train.png')"
   ]
  },
  {
   "cell_type": "code",
   "execution_count": 184,
   "metadata": {},
   "outputs": [],
   "source": [
    "img = np.zeros((arr.shape[0], arr.shape[1], 3), \n",
    "    dtype='uint8')\n",
    "for i in range(arr.shape[0]):\n",
    "    for j in range(arr.shape[1]):\n",
    "        if(arr[i][j][0]==31 and arr[i][j][2]==180):\n",
    "            img[i][j] = [arr[i][j][0], arr[i][j][1], arr[i][j][2]]"
   ]
  },
  {
   "cell_type": "code",
   "execution_count": 185,
   "metadata": {},
   "outputs": [
    {
     "name": "stdout",
     "output_type": "stream",
     "text": [
      "[16, 7, 15, 8, 7, 15, 7, 8, 22, 7, 23, 7, 8, 7, 7, 8, 7, 8, 7, 7, 8, 7, 8, 7, 8, 7, 7, 8, 7, 8, 7, 7]\n"
     ]
    }
   ],
   "source": [
    "w = []\n",
    "flag = 0\n",
    "for i in range(0, img.shape[1]):\n",
    "    t = 0\n",
    "    for j in range(img.shape[0]):\n",
    "        if(img[j][i][0]==31):\n",
    "            t = t+1\n",
    "        # print(t)\n",
    "    if(t>0):\n",
    "        w.append(t)\n",
    "widths = []\n",
    "width = 0\n",
    "for wid in range(1, len(w)):\n",
    "    if(w[wid-1] == w[wid]):\n",
    "        width = width +1\n",
    "        \n",
    "    else:\n",
    "        width = width +1\n",
    "        widths.append(width)\n",
    "        width = 0\n",
    "    if(wid == len(w)-1):\n",
    "        widths.append(width)\n",
    "print(widths)"
   ]
  },
  {
   "cell_type": "code",
   "execution_count": 186,
   "metadata": {},
   "outputs": [
    {
     "name": "stdout",
     "output_type": "stream",
     "text": [
      "[2, 1, 2, 3, 2, 3, 4, 5, 8, 7, 8, 11, 8, 9, 10, 14, 13, 17, 21, 35, 59, 70, 79, 99, 107, 82, 62, 43, 48, 96, 207]\n"
     ]
    }
   ],
   "source": [
    "bins = []\n",
    "wid = []\n",
    "num = 98\n",
    "for j in widths[1:]:\n",
    "    num = num+j\n",
    "    # print(num)\n",
    "    wid.append(num)\n",
    "for i in wid:\n",
    "    t = 0\n",
    "    for j in range(img.shape[0]):\n",
    "        if(img[j][i][0]==31):\n",
    "            t = t+1\n",
    "        # print(t)\n",
    "    if(t>0):\n",
    "        bins.append(t)\n",
    "print(bins)"
   ]
  },
  {
   "cell_type": "code",
   "execution_count": 187,
   "metadata": {},
   "outputs": [
    {
     "data": {
      "text/plain": [
       "[7,\n",
       " 15,\n",
       " 8,\n",
       " 7,\n",
       " 15,\n",
       " 7,\n",
       " 8,\n",
       " 22,\n",
       " 7,\n",
       " 23,\n",
       " 7,\n",
       " 8,\n",
       " 7,\n",
       " 7,\n",
       " 8,\n",
       " 7,\n",
       " 8,\n",
       " 7,\n",
       " 7,\n",
       " 8,\n",
       " 7,\n",
       " 8,\n",
       " 7,\n",
       " 8,\n",
       " 7,\n",
       " 7,\n",
       " 8,\n",
       " 7,\n",
       " 8,\n",
       " 7,\n",
       " 7]"
      ]
     },
     "execution_count": 187,
     "metadata": {},
     "output_type": "execute_result"
    }
   ],
   "source": [
    "widths[1:]"
   ]
  },
  {
   "cell_type": "code",
   "execution_count": 188,
   "metadata": {},
   "outputs": [],
   "source": [
    "#Dimensional changing of the lengths\n",
    "x = 0.1/70\n",
    "y = 100/30\n",
    "shift = 4*x"
   ]
  },
  {
   "cell_type": "code",
   "execution_count": 189,
   "metadata": {},
   "outputs": [
    {
     "name": "stdout",
     "output_type": "stream",
     "text": [
      "[0.022857142857142857, 0.01, 0.02142857142857143, 0.011428571428571429, 0.01, 0.02142857142857143, 0.01, 0.011428571428571429, 0.03142857142857143, 0.01, 0.032857142857142856, 0.01, 0.011428571428571429, 0.01, 0.01, 0.011428571428571429, 0.01, 0.011428571428571429, 0.01, 0.01, 0.011428571428571429, 0.01, 0.011428571428571429, 0.01, 0.011428571428571429, 0.01, 0.01, 0.011428571428571429, 0.01, 0.011428571428571429, 0.01, 0.01]\n"
     ]
    },
    {
     "data": {
      "text/plain": [
       "32"
      ]
     },
     "execution_count": 189,
     "metadata": {},
     "output_type": "execute_result"
    }
   ],
   "source": [
    "#TO FIND THE WIDTH OF EACH BAR/BIN\n",
    "real_widths = [width*x for width in widths]\n",
    "print(real_widths)\n",
    "len(real_widths)"
   ]
  },
  {
   "cell_type": "code",
   "execution_count": 190,
   "metadata": {},
   "outputs": [
    {
     "name": "stdout",
     "output_type": "stream",
     "text": [
      "[6.666666666666667, 3.3333333333333335, 6.666666666666667, 10.0, 6.666666666666667, 10.0, 13.333333333333334, 16.666666666666668, 26.666666666666668, 23.333333333333336, 26.666666666666668, 36.66666666666667, 26.666666666666668, 30.0, 33.333333333333336, 46.66666666666667, 43.333333333333336, 56.66666666666667, 70.0, 116.66666666666667, 196.66666666666669, 233.33333333333334, 263.33333333333337, 330.0, 356.6666666666667, 273.33333333333337, 206.66666666666669, 143.33333333333334, 160.0, 320.0, 690.0]\n",
      "3783.3333333333335\n"
     ]
    },
    {
     "data": {
      "text/plain": [
       "31"
      ]
     },
     "execution_count": 190,
     "metadata": {},
     "output_type": "execute_result"
    }
   ],
   "source": [
    "# LENGTH 0F EACH BIN\n",
    "bin_len = [bin*y for bin in bins]\n",
    "print(bin_len)\n",
    "print(sum(bin_len))\n",
    "len(bin_len)"
   ]
  },
  {
   "cell_type": "code",
   "execution_count": 191,
   "metadata": {},
   "outputs": [
    {
     "name": "stdout",
     "output_type": "stream",
     "text": [
      "0.9219786028949025\n"
     ]
    }
   ],
   "source": [
    "#X-VALUE FOR EACH BIN\n",
    "n = []\n",
    "real_width = x*width\n",
    "v = 1 - shift\n",
    "for val in range(len(bins)):\n",
    "    if(val == 0):\n",
    "\n",
    "        v = v - (real_widths[-1]/2)\n",
    "    else:\n",
    "        v = v - ((real_widths[-val]/2)+(real_widths[-1-val]/2))\n",
    "    n.append(v)\n",
    "\n",
    "#SUMMATION XiYi/SUMMATION Yi\n",
    "wt_sum = 0\n",
    "s = 0\n",
    "variable = 0\n",
    "flag = 0\n",
    "for b in bin_len:\n",
    "    wt_sum = wt_sum + (n[-(s+1)]*bin_len[s])\n",
    "    variable = variable +1\n",
    "    s = s+1\n",
    "wt_sum = wt_sum/sum(bin_len)  \n",
    "print(wt_sum)"
   ]
  },
  {
   "cell_type": "code",
   "execution_count": 192,
   "metadata": {},
   "outputs": [
    {
     "name": "stdout",
     "output_type": "stream",
     "text": [
      "[0.9892857142857143, 0.9792857142857143, 0.9685714285714286, 0.957857142857143, 0.9471428571428573, 0.9364285714285716, 0.9264285714285716, 0.9157142857142859, 0.9050000000000002, 0.8942857142857146, 0.8835714285714289, 0.8728571428571432, 0.8621428571428575, 0.8521428571428575, 0.8414285714285719, 0.8307142857142862, 0.8200000000000005, 0.8092857142857148, 0.7992857142857148, 0.7885714285714291, 0.7778571428571435, 0.756428571428572, 0.7350000000000005, 0.7142857142857149, 0.6928571428571434, 0.6821428571428577, 0.666428571428572, 0.6507142857142864, 0.6400000000000007, 0.6235714285714292, 0.6078571428571435]\n"
     ]
    }
   ],
   "source": [
    "#X-AXIS VALUE OF EACH BIN\n",
    "print(n)"
   ]
  }
 ],
 "metadata": {
  "kernelspec": {
   "display_name": "Python 3.9.13 64-bit",
   "language": "python",
   "name": "python3"
  },
  "language_info": {
   "codemirror_mode": {
    "name": "ipython",
    "version": 3
   },
   "file_extension": ".py",
   "mimetype": "text/x-python",
   "name": "python",
   "nbconvert_exporter": "python",
   "pygments_lexer": "ipython3",
   "version": "3.9.13"
  },
  "orig_nbformat": 4,
  "vscode": {
   "interpreter": {
    "hash": "aee8b7b246df8f9039afb4144a1f6fd8d2ca17a180786b69acc140d282b71a49"
   }
  }
 },
 "nbformat": 4,
 "nbformat_minor": 2
}
